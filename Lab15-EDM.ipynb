{
  "cells": [
    {
      "cell_type": "markdown",
      "metadata": {
        "id": "view-in-github",
        "colab_type": "text"
      },
      "source": [
        "<a href=\"https://colab.research.google.com/github/SzymonNowakowski/Machine-Learning-2025/blob/master/Lab15-EDM.ipynb\" target=\"_parent\"><img src=\"https://colab.research.google.com/assets/colab-badge.svg\" alt=\"Open In Colab\"/></a>"
      ]
    },
    {
      "cell_type": "markdown",
      "source": [
        "# Lab 15 - EDM, Working in ICM\n",
        "\n",
        "\n",
        "### Author: Szymon Nowakowski\n"
      ],
      "metadata": {
        "id": "xl_-W_aXqjJ2"
      },
      "id": "xl_-W_aXqjJ2"
    },
    {
      "cell_type": "markdown",
      "source": [
        "# Presentation Plan\n",
        "\n",
        "## Cluster Computation (ICM Example)\n",
        "\n",
        "## Working with Containers\n",
        "\n",
        "## Best (Programming) Practices\n",
        "\n",
        "## EDM\n",
        "\n",
        "### Training\n",
        "\n",
        "### Generating Images\n",
        "\n",
        "### Calculating FID"
      ],
      "metadata": {
        "id": "Ceu8ykzgYSu4"
      },
      "id": "Ceu8ykzgYSu4"
    },
    {
      "cell_type": "markdown",
      "source": [
        "# Cluster Computation (ICM Example)"
      ],
      "metadata": {
        "id": "UZa709sKjXCr"
      },
      "id": "UZa709sKjXCr"
    },
    {
      "cell_type": "markdown",
      "source": [
        "\n",
        "\n",
        "## SLURM\n",
        "\n",
        "In ICM they use ***SLURM***. SLURM stands for **Simple Linux Utility for Resource Management** — it's a workload manager widely used on **HPC (High-Performance Computing)** clusters to schedule and manage jobs.\n",
        "\n",
        "It handles job submission, queuing, scheduling, monitoring, and resource allocation.\n",
        "\n",
        "In SLURM each command starts with a letter `s`:\n",
        "\n",
        "```{bash}\n",
        "# Submit a job\n",
        "sbatch myjob.sh\n",
        "\n",
        "# Check job queue\n",
        "squeue -u $USER\n",
        "\n",
        "# Cancel a job\n",
        "scancel 12345\n",
        "```\n",
        "\n",
        "I will show you an example of a SLURM batch job file  (`myjob.sh` in examples above) in a moment.\n",
        "\n",
        "The great resource is the [ICM help page on SLURM](https://kdm.icm.edu.pl/Tutorials/HPC-intro/slurm_intro/).\n",
        "\n",
        "The available resouces i.e. configurations, GPUs, available memory can be checked at the [ICM help page on computing resources](https://kdm.icm.edu.pl/Zasoby/komputery_w_icm.pl/).\n",
        "\n",
        "\n"
      ],
      "metadata": {
        "id": "UWP80vZyaNMa"
      },
      "id": "UWP80vZyaNMa"
    },
    {
      "cell_type": "markdown",
      "source": [
        "## LSF\n",
        "\n",
        "\n",
        "There exist other computing HPC environments, the most popular alternative to SLURM being ***LSF*** (**Load Sharing Facility**), developed originally by Platform Computing (now delivered by IBM).\n",
        "\n",
        "In LSF each command starts with a letter `b`:\n",
        "\n",
        "```{bash}\n",
        "# Submit a job\n",
        "bsub < myjob.lsf\n",
        "\n",
        "# Check your jobs in the queue\n",
        "bjobs\n",
        "\n",
        "# Check all jobs in the queue\n",
        "bjobs -u all\n",
        "\n",
        "# Show information about available queues\n",
        "bqueues\n",
        "\n",
        "# Kill a job\n",
        "bkill 12345\n",
        "```"
      ],
      "metadata": {
        "id": "UXTc8oHrjT6n"
      },
      "id": "UXTc8oHrjT6n"
    }
  ],
  "metadata": {
    "colab": {
      "provenance": [],
      "toc_visible": true,
      "gpuType": "T4",
      "include_colab_link": true
    },
    "language_info": {
      "name": "python"
    },
    "kernelspec": {
      "name": "python3",
      "display_name": "Python 3"
    },
    "accelerator": "GPU"
  },
  "nbformat": 4,
  "nbformat_minor": 5
}