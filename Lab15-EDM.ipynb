{
  "cells": [
    {
      "cell_type": "markdown",
      "metadata": {
        "id": "view-in-github",
        "colab_type": "text"
      },
      "source": [
        "<a href=\"https://colab.research.google.com/github/SzymonNowakowski/Machine-Learning-2025/blob/master/Lab15-EDM.ipynb\" target=\"_parent\"><img src=\"https://colab.research.google.com/assets/colab-badge.svg\" alt=\"Open In Colab\"/></a>"
      ]
    },
    {
      "cell_type": "markdown",
      "source": [
        "# Lab 15 - EDM, Working in ICM\n",
        "\n",
        "\n",
        "### Author: Szymon Nowakowski\n"
      ],
      "metadata": {
        "id": "xl_-W_aXqjJ2"
      },
      "id": "xl_-W_aXqjJ2"
    },
    {
      "cell_type": "markdown",
      "source": [
        "# Presentation Plan\n",
        "\n",
        "## Cluster Computation (ICM Example)\n",
        "\n",
        "## Working with Containers\n",
        "\n",
        "## Best (Programming) Practices\n",
        "\n",
        "## EDM\n",
        "\n",
        "### Training\n",
        "\n",
        "### Generating Images\n",
        "\n",
        "### Calculating FID"
      ],
      "metadata": {
        "id": "Ceu8ykzgYSu4"
      },
      "id": "Ceu8ykzgYSu4"
    },
    {
      "cell_type": "markdown",
      "source": [
        "# Cluster Computation (ICM Example)"
      ],
      "metadata": {
        "id": "UZa709sKjXCr"
      },
      "id": "UZa709sKjXCr"
    },
    {
      "cell_type": "markdown",
      "source": [
        "\n",
        "\n",
        "## SLURM\n",
        "\n",
        "In ICM they use ***SLURM***. SLURM stands for **Simple Linux Utility for Resource Management** — it's a workload manager widely used on **HPC (High-Performance Computing)** clusters to schedule and manage jobs.\n",
        "\n",
        "It handles job submission, queuing, scheduling, monitoring, and resource allocation.\n",
        "\n",
        "In SLURM each command starts with a letter `s`:\n",
        "\n",
        "    {bash}\n",
        "    # Submit a job\n",
        "    sbatch myjob.sh\n",
        "\n",
        "    # Check job queue\n",
        "    squeue -u $USER\n",
        "\n",
        "    # Check all jobs\n",
        "    squeue\n",
        "\n",
        "    # Cancel a job\n",
        "    scancel 12345\n",
        "\n",
        "\n",
        "I will show you an example of a SLURM batch job file  (`myjob.sh` in examples above) in a moment.\n",
        "\n",
        "The great resource is the [ICM help page on SLURM](https://kdm.icm.edu.pl/Tutorials/HPC-intro/slurm_intro/).\n",
        "\n",
        "The available resouces i.e. configurations, GPUs, available memory can be checked at the [ICM help page on computing resources](https://kdm.icm.edu.pl/Zasoby/komputery_w_icm.pl/).\n",
        "\n",
        "\n"
      ],
      "metadata": {
        "id": "UWP80vZyaNMa"
      },
      "id": "UWP80vZyaNMa"
    },
    {
      "cell_type": "markdown",
      "source": [
        "## LSF\n",
        "\n",
        "\n",
        "There exist other computing HPC environments, the most popular alternative to SLURM being ***LSF*** (**Load Sharing Facility**), developed originally by Platform Computing (now delivered by IBM).\n",
        "\n",
        "In LSF each command starts with a letter `b`:\n",
        "\n",
        "    {bash}\n",
        "    # Submit a job\n",
        "    bsub < myjob.lsf\n",
        "\n",
        "    # Check your jobs\n",
        "    bjobs\n",
        "\n",
        "    # Check all jobs\n",
        "    bjobs -u all\n",
        "\n",
        "    # Show information about available queues\n",
        "    bqueues\n",
        "\n",
        "    # Kill a job\n",
        "    bkill 12345\n"
      ],
      "metadata": {
        "id": "UXTc8oHrjT6n"
      },
      "id": "UXTc8oHrjT6n"
    },
    {
      "cell_type": "markdown",
      "source": [
        "# Working with Containers\n",
        "\n",
        "In many HPC environments (including ICM), you cannot run Docker directly for security reasons.  \n",
        "Instead, you typically **build containers locally** (on your workstation or laptop) and then **transfer them** to the cluster, where they can be rebuilt to *Apptainer* (formerly Singularity).\n",
        "\n",
        "Below are the steps to create, save, and transfer a Docker container image."
      ],
      "metadata": {
        "id": "VbufEDhgozJY"
      },
      "id": "VbufEDhgozJY"
    },
    {
      "cell_type": "markdown",
      "source": [
        "\n",
        "## `Dockerfile`\n",
        "\n",
        "The `Dockerfile` describes your environment — e.g., which base image to use, which Python packages to install, etc.\n",
        "\n",
        "    {bash}\n",
        "    # Example Dockerfile\n",
        "    FROM pytorch/pytorch:2.3.0-cuda12.1-cudnn8-runtime\n",
        "\n",
        "    # Set working directory\n",
        "    WORKDIR /workspace\n",
        "\n",
        "    # Copy your project\n",
        "    COPY . /workspace\n",
        "\n",
        "    # Install extra dependencies\n",
        "    RUN pip install -r requirements.txt\n",
        "\n",
        "    # Default command\n",
        "    CMD [\"python\", \"train.py\"]\n"
      ],
      "metadata": {
        "id": "RIDQyXrFo1ZR"
      },
      "id": "RIDQyXrFo1ZR"
    },
    {
      "cell_type": "markdown",
      "source": [
        "## Building the Docker Image\n",
        "\n",
        "    {bash}\n",
        "    docker build -t myproject:latest .\n",
        "\n",
        "This creates a local image named `myproject:latest`.\n",
        "\n",
        "When you run\n",
        "\n",
        "    {bash}\n",
        "    docker run myproject\n",
        "what happens is that the `python train.py` gets executed within the container.\n",
        "\n",
        "There can only be one `CMD` instruction in a `Dockerfile` (if there are multiple, only the last one is used).\n",
        "\n",
        "Often, `CMD` is used to launch the main script or application of the container. This command can be overwritten"
      ],
      "metadata": {
        "id": "NTvBbZrlo5pg"
      },
      "id": "NTvBbZrlo5pg"
    },
    {
      "cell_type": "markdown",
      "source": [
        "## Saving the Image to a `.tar` File\n",
        "\n",
        "    {bash}\n",
        "    docker save myproject:latest -o myproject.tar\n",
        "    ls -lh myproject.tar\n",
        "\n",
        "\n",
        "What happens is that the file `myproject.tar` gets written to the current directory (a.k.a. folder)."
      ],
      "metadata": {
        "id": "IorczX41pPdi"
      },
      "id": "IorczX41pPdi"
    },
    {
      "cell_type": "markdown",
      "source": [
        "## Copying the container image to ICM\n",
        "\n",
        "Use `scp` (secure copy) to transfer the image file to your home directory at ICM.  \n",
        "Replace `username` with your ICM login name.\n",
        "\n",
        "    {bash}\n",
        "    scp myproject.tar username@hpc.edu.pl:/lu/tetyda/home/username/\n",
        "\n",
        "\n"
      ],
      "metadata": {
        "id": "caBfxZDVljIm"
      },
      "id": "caBfxZDVljIm"
    },
    {
      "cell_type": "markdown",
      "source": [
        "## Converting the Image to Apptainer Format on ICM\n",
        "\n",
        "    \n",
        "\n"
      ],
      "metadata": {
        "id": "mxvrzmorqU1L"
      },
      "id": "mxvrzmorqU1L"
    },
    {
      "cell_type": "markdown",
      "source": [
        "# Best (Programming) Practices\n",
        "\n",
        "## Configure Your `ssh` and `scp` Connection\n",
        "\n",
        "As you need a stable `ssh` and `scp` connection with the cluster, you will need to configure it with a file `~/.ssh/config`. An example of such a config file I use:\n",
        "\n",
        "\n",
        "\n",
        "## Configure Your `ssh` and `scp` Certificate\n",
        "\n",
        "The second thing ....\n",
        "\n",
        "As you will frequently need to `ssh` and `scp` to and from the cluster, it is reasonable to"
      ],
      "metadata": {
        "id": "8l-DphqarxQp"
      },
      "id": "8l-DphqarxQp"
    }
  ],
  "metadata": {
    "colab": {
      "provenance": [],
      "toc_visible": true,
      "gpuType": "T4",
      "include_colab_link": true
    },
    "language_info": {
      "name": "python"
    },
    "kernelspec": {
      "name": "python3",
      "display_name": "Python 3"
    },
    "accelerator": "GPU"
  },
  "nbformat": 4,
  "nbformat_minor": 5
}